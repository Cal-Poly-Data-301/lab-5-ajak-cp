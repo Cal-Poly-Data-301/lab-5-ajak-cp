{
  "nbformat": 4,
  "nbformat_minor": 0,
  "metadata": {
    "kernelspec": {
      "display_name": "Python 3",
      "language": "python",
      "name": "python3"
    },
    "language_info": {
      "codemirror_mode": {
        "name": "ipython",
        "version": 3
      },
      "file_extension": ".py",
      "mimetype": "text/x-python",
      "name": "python",
      "nbconvert_exporter": "python",
      "pygments_lexer": "ipython3",
      "version": "3.6.8"
    },
    "colab": {
      "name": "DATA 301 Lab 5 Phase 2 - Sucheen Sundaram, Ava Jakusovsky",
      "provenance": [],
      "collapsed_sections": [],
      "include_colab_link": true
    }
  },
  "cells": [
    {
      "cell_type": "markdown",
      "metadata": {
        "id": "view-in-github",
        "colab_type": "text"
      },
      "source": [
        "<a href=\"https://colab.research.google.com/github/ajak-cp/lab-5-ajak-cp/blob/main/DATA_301_Lab_5_Phase_2_Sucheen_Sundaram%2C_Ava_Jakusovsky.ipynb\" target=\"_parent\"><img src=\"https://colab.research.google.com/assets/colab-badge.svg\" alt=\"Open In Colab\"/></a>"
      ]
    },
    {
      "cell_type": "markdown",
      "metadata": {
        "id": "iG3X1KFIBLUK"
      },
      "source": [
        "# Authorship of the Federalist Papers\n",
        "\n",
        "The _Federalist Papers_ were a set of 85 essays published between 1787 and 1788 to promote the ratification of the United States Constitution. They were originally published under the pseudonym \"Publius\". Although the identity of the authors was a closely guarded secret at the time, most of the papers have since been conclusively attributed to one of Hamilton, Jay, or Madison. The known authorships can be found in `https://dlsun.github.io/pods/data/federalist/authorship.csv`.\n",
        "\n",
        "For 15 of the papers, however, the authorships remain disputed. (These papers can be identified from the `authorship.csv` file because the \"Author\" field is blank.) In this analysis, you will use the papers with known authorship to predict the authorships of the disputed papers. The text of each paper is available at `https://dlsun.github.io/pods/data/federalist/x.txt`, where `x` is the number of the paper (i.e., a number from 1 to 85). The name of the file indicates the number of the paper."
      ]
    },
    {
      "cell_type": "markdown",
      "metadata": {
        "id": "8YRe6SB3BLUN"
      },
      "source": [
        "## Question 1\n",
        "\n",
        "When analyzing an author's style, common words like \"the\" and \"on\" are actually more useful than rare words like \"hostilities\". That is because rare words typically signify context. Context is useful if you are trying to find documents about similar topics, but not so useful if you are trying to identify an author's style because different authors can write about the same topic. For example, both Dr. Seuss and Charles Dickens used rare words like \"chimney\" and \"stockings\" in _How the Grinch Stole Christmas_ and _A Christmas Carol_, respectively. But they used common words very differently: Dickens used the word \"upon\" over 100 times, while Dr. Seuss did not use \"upon\" even once.\n",
        "\n",
        "Read in the Federalist Papers. Convert each one into a vector of term frequencies. In order to restrict to common words, include only the top 50 words across the corpus. (Because we are restricting to the most common words already, there is no reason to reweight them using TF-IDF.)"
      ]
    },
    {
      "cell_type": "code",
      "source": [
        "import pandas as pd\n",
        "import numpy as np\n",
        "import requests\n",
        "import seaborn as sns\n",
        "strings = []\n",
        "for i in range(1, 86):\n",
        "  strings.append(requests.get(\"https://dlsun.github.io/pods/data/federalist/\" + str(i) + \".txt\", \"r\").text)\n",
        "papers = pd.Series(strings, index=range(1, 86))\n",
        "df_author = pd.read_csv(\"https://dlsun.github.io/pods/data/federalist/authorship.csv\")"
      ],
      "metadata": {
        "id": "5vEd-J0AoXUj"
      },
      "execution_count": null,
      "outputs": []
    },
    {
      "cell_type": "code",
      "source": [
        "from collections import Counter\n",
        "from sklearn.feature_extraction.text import *\n",
        "from sklearn.metrics.pairwise import *\n",
        "df_papers = (papers.\n",
        " str.lower().\n",
        " str.replace(\"[^\\w\\s]\", \" \").  # replace non-alphanumeric characters by whitespace\n",
        " str.split()).apply(Counter).to_frame()\n",
        "df_author.index = df_author[\"Paper\"]\n",
        "df_papers[\"Author\"] = df_author[\"Author\"]\n",
        "\n",
        "def Convert(tup, di):\n",
        "    di = dict(tup)\n",
        "    return di\n",
        "      \n",
        "for i in range(1,86,1):\n",
        "  df_papers[0][i] = Convert(df_papers[0][i].most_common(50),df_papers[0][i])\n",
        "  print(\"The length of the dictionary #\"+str(i)+\" is \" + str(len(df_papers[0][i])))\n"
      ],
      "metadata": {
        "colab": {
          "base_uri": "https://localhost:8080/"
        },
        "id": "pSwsUviz5VNk",
        "outputId": "8276aef9-1f8f-4d4e-fee9-71289ce47fc5"
      },
      "execution_count": null,
      "outputs": [
        {
          "output_type": "stream",
          "name": "stdout",
          "text": [
            "The length of the dictionary #1 is 50\n",
            "The length of the dictionary #2 is 50\n",
            "The length of the dictionary #3 is 50\n",
            "The length of the dictionary #4 is 50\n",
            "The length of the dictionary #5 is 50\n",
            "The length of the dictionary #6 is 50\n",
            "The length of the dictionary #7 is 50\n",
            "The length of the dictionary #8 is 50\n",
            "The length of the dictionary #9 is 50\n",
            "The length of the dictionary #10 is 50\n",
            "The length of the dictionary #11 is 50\n",
            "The length of the dictionary #12 is 50\n",
            "The length of the dictionary #13 is 50\n",
            "The length of the dictionary #14 is 50\n",
            "The length of the dictionary #15 is 50\n",
            "The length of the dictionary #16 is 50\n",
            "The length of the dictionary #17 is 50\n",
            "The length of the dictionary #18 is 50\n",
            "The length of the dictionary #19 is 50\n",
            "The length of the dictionary #20 is 50\n",
            "The length of the dictionary #21 is 50\n",
            "The length of the dictionary #22 is 50\n",
            "The length of the dictionary #23 is 50\n",
            "The length of the dictionary #24 is 50\n",
            "The length of the dictionary #25 is 50\n",
            "The length of the dictionary #26 is 50\n",
            "The length of the dictionary #27 is 50\n",
            "The length of the dictionary #28 is 50\n",
            "The length of the dictionary #29 is 50\n",
            "The length of the dictionary #30 is 50\n",
            "The length of the dictionary #31 is 50\n",
            "The length of the dictionary #32 is 50\n",
            "The length of the dictionary #33 is 50\n",
            "The length of the dictionary #34 is 50\n",
            "The length of the dictionary #35 is 50\n",
            "The length of the dictionary #36 is 50\n",
            "The length of the dictionary #37 is 50\n",
            "The length of the dictionary #38 is 50\n",
            "The length of the dictionary #39 is 50\n",
            "The length of the dictionary #40 is 50\n",
            "The length of the dictionary #41 is 50\n",
            "The length of the dictionary #42 is 50\n",
            "The length of the dictionary #43 is 50\n",
            "The length of the dictionary #44 is 50\n",
            "The length of the dictionary #45 is 50\n",
            "The length of the dictionary #46 is 50\n",
            "The length of the dictionary #47 is 50\n",
            "The length of the dictionary #48 is 50\n",
            "The length of the dictionary #49 is 50\n",
            "The length of the dictionary #50 is 50\n",
            "The length of the dictionary #51 is 50\n",
            "The length of the dictionary #52 is 50\n",
            "The length of the dictionary #53 is 50\n",
            "The length of the dictionary #54 is 50\n",
            "The length of the dictionary #55 is 50\n",
            "The length of the dictionary #56 is 50\n",
            "The length of the dictionary #57 is 50\n",
            "The length of the dictionary #58 is 50\n",
            "The length of the dictionary #59 is 50\n",
            "The length of the dictionary #60 is 50\n",
            "The length of the dictionary #61 is 50\n",
            "The length of the dictionary #62 is 50\n",
            "The length of the dictionary #63 is 50\n",
            "The length of the dictionary #64 is 50\n",
            "The length of the dictionary #65 is 50\n",
            "The length of the dictionary #66 is 50\n",
            "The length of the dictionary #67 is 50\n",
            "The length of the dictionary #68 is 50\n",
            "The length of the dictionary #69 is 50\n",
            "The length of the dictionary #70 is 50\n",
            "The length of the dictionary #71 is 50\n",
            "The length of the dictionary #72 is 50\n",
            "The length of the dictionary #73 is 50\n",
            "The length of the dictionary #74 is 50\n",
            "The length of the dictionary #75 is 50\n",
            "The length of the dictionary #76 is 50\n",
            "The length of the dictionary #77 is 50\n",
            "The length of the dictionary #78 is 50\n",
            "The length of the dictionary #79 is 50\n",
            "The length of the dictionary #80 is 50\n",
            "The length of the dictionary #81 is 50\n",
            "The length of the dictionary #82 is 50\n",
            "The length of the dictionary #83 is 50\n",
            "The length of the dictionary #84 is 50\n",
            "The length of the dictionary #85 is 50\n"
          ]
        },
        {
          "output_type": "stream",
          "name": "stderr",
          "text": [
            "/usr/local/lib/python3.7/dist-packages/ipykernel_launcher.py:6: FutureWarning: The default value of regex will change from True to False in a future version.\n",
            "  \n"
          ]
        }
      ]
    },
    {
      "cell_type": "code",
      "source": [
        "df_papers"
      ],
      "metadata": {
        "colab": {
          "base_uri": "https://localhost:8080/",
          "height": 423
        },
        "id": "xDpw6zEEXvNS",
        "outputId": "1e0fa4b2-54b6-4644-f878-34713b606b2b"
      },
      "execution_count": null,
      "outputs": [
        {
          "output_type": "execute_result",
          "data": {
            "text/html": [
              "\n",
              "  <div id=\"df-c7bc95c0-7fc1-4668-9ac3-88a765086463\">\n",
              "    <div class=\"colab-df-container\">\n",
              "      <div>\n",
              "<style scoped>\n",
              "    .dataframe tbody tr th:only-of-type {\n",
              "        vertical-align: middle;\n",
              "    }\n",
              "\n",
              "    .dataframe tbody tr th {\n",
              "        vertical-align: top;\n",
              "    }\n",
              "\n",
              "    .dataframe thead th {\n",
              "        text-align: right;\n",
              "    }\n",
              "</style>\n",
              "<table border=\"1\" class=\"dataframe\">\n",
              "  <thead>\n",
              "    <tr style=\"text-align: right;\">\n",
              "      <th></th>\n",
              "      <th>0</th>\n",
              "      <th>Author</th>\n",
              "    </tr>\n",
              "  </thead>\n",
              "  <tbody>\n",
              "    <tr>\n",
              "      <th>1</th>\n",
              "      <td>{'the': 133, 'of': 106, 'to': 72, 'and': 40, '...</td>\n",
              "      <td>Hamilton</td>\n",
              "    </tr>\n",
              "    <tr>\n",
              "      <th>2</th>\n",
              "      <td>{'the': 107, 'of': 83, 'and': 83, 'to': 53, 't...</td>\n",
              "      <td>Jay</td>\n",
              "    </tr>\n",
              "    <tr>\n",
              "      <th>3</th>\n",
              "      <td>{'the': 93, 'of': 62, 'and': 60, 'to': 56, 'or...</td>\n",
              "      <td>Jay</td>\n",
              "    </tr>\n",
              "    <tr>\n",
              "      <th>4</th>\n",
              "      <td>{'and': 90, 'the': 86, 'of': 72, 'to': 51, 'it...</td>\n",
              "      <td>Jay</td>\n",
              "    </tr>\n",
              "    <tr>\n",
              "      <th>5</th>\n",
              "      <td>{'and': 72, 'the': 66, 'of': 53, 'to': 45, 'wo...</td>\n",
              "      <td>Jay</td>\n",
              "    </tr>\n",
              "    <tr>\n",
              "      <th>...</th>\n",
              "      <td>...</td>\n",
              "      <td>...</td>\n",
              "    </tr>\n",
              "    <tr>\n",
              "      <th>81</th>\n",
              "      <td>{'the': 389, 'of': 248, 'to': 163, 'in': 135, ...</td>\n",
              "      <td>Hamilton</td>\n",
              "    </tr>\n",
              "    <tr>\n",
              "      <th>82</th>\n",
              "      <td>{'the': 168, 'of': 94, 'to': 83, 'and': 41, 'i...</td>\n",
              "      <td>Hamilton</td>\n",
              "    </tr>\n",
              "    <tr>\n",
              "      <th>83</th>\n",
              "      <td>{'the': 485, 'of': 331, 'to': 219, 'in': 213, ...</td>\n",
              "      <td>Hamilton</td>\n",
              "    </tr>\n",
              "    <tr>\n",
              "      <th>84</th>\n",
              "      <td>{'the': 390, 'of': 293, 'to': 140, 'be': 94, '...</td>\n",
              "      <td>Hamilton</td>\n",
              "    </tr>\n",
              "    <tr>\n",
              "      <th>85</th>\n",
              "      <td>{'the': 246, 'of': 172, 'to': 115, 'in': 73, '...</td>\n",
              "      <td>Hamilton</td>\n",
              "    </tr>\n",
              "  </tbody>\n",
              "</table>\n",
              "<p>85 rows × 2 columns</p>\n",
              "</div>\n",
              "      <button class=\"colab-df-convert\" onclick=\"convertToInteractive('df-c7bc95c0-7fc1-4668-9ac3-88a765086463')\"\n",
              "              title=\"Convert this dataframe to an interactive table.\"\n",
              "              style=\"display:none;\">\n",
              "        \n",
              "  <svg xmlns=\"http://www.w3.org/2000/svg\" height=\"24px\"viewBox=\"0 0 24 24\"\n",
              "       width=\"24px\">\n",
              "    <path d=\"M0 0h24v24H0V0z\" fill=\"none\"/>\n",
              "    <path d=\"M18.56 5.44l.94 2.06.94-2.06 2.06-.94-2.06-.94-.94-2.06-.94 2.06-2.06.94zm-11 1L8.5 8.5l.94-2.06 2.06-.94-2.06-.94L8.5 2.5l-.94 2.06-2.06.94zm10 10l.94 2.06.94-2.06 2.06-.94-2.06-.94-.94-2.06-.94 2.06-2.06.94z\"/><path d=\"M17.41 7.96l-1.37-1.37c-.4-.4-.92-.59-1.43-.59-.52 0-1.04.2-1.43.59L10.3 9.45l-7.72 7.72c-.78.78-.78 2.05 0 2.83L4 21.41c.39.39.9.59 1.41.59.51 0 1.02-.2 1.41-.59l7.78-7.78 2.81-2.81c.8-.78.8-2.07 0-2.86zM5.41 20L4 18.59l7.72-7.72 1.47 1.35L5.41 20z\"/>\n",
              "  </svg>\n",
              "      </button>\n",
              "      \n",
              "  <style>\n",
              "    .colab-df-container {\n",
              "      display:flex;\n",
              "      flex-wrap:wrap;\n",
              "      gap: 12px;\n",
              "    }\n",
              "\n",
              "    .colab-df-convert {\n",
              "      background-color: #E8F0FE;\n",
              "      border: none;\n",
              "      border-radius: 50%;\n",
              "      cursor: pointer;\n",
              "      display: none;\n",
              "      fill: #1967D2;\n",
              "      height: 32px;\n",
              "      padding: 0 0 0 0;\n",
              "      width: 32px;\n",
              "    }\n",
              "\n",
              "    .colab-df-convert:hover {\n",
              "      background-color: #E2EBFA;\n",
              "      box-shadow: 0px 1px 2px rgba(60, 64, 67, 0.3), 0px 1px 3px 1px rgba(60, 64, 67, 0.15);\n",
              "      fill: #174EA6;\n",
              "    }\n",
              "\n",
              "    [theme=dark] .colab-df-convert {\n",
              "      background-color: #3B4455;\n",
              "      fill: #D2E3FC;\n",
              "    }\n",
              "\n",
              "    [theme=dark] .colab-df-convert:hover {\n",
              "      background-color: #434B5C;\n",
              "      box-shadow: 0px 1px 3px 1px rgba(0, 0, 0, 0.15);\n",
              "      filter: drop-shadow(0px 1px 2px rgba(0, 0, 0, 0.3));\n",
              "      fill: #FFFFFF;\n",
              "    }\n",
              "  </style>\n",
              "\n",
              "      <script>\n",
              "        const buttonEl =\n",
              "          document.querySelector('#df-c7bc95c0-7fc1-4668-9ac3-88a765086463 button.colab-df-convert');\n",
              "        buttonEl.style.display =\n",
              "          google.colab.kernel.accessAllowed ? 'block' : 'none';\n",
              "\n",
              "        async function convertToInteractive(key) {\n",
              "          const element = document.querySelector('#df-c7bc95c0-7fc1-4668-9ac3-88a765086463');\n",
              "          const dataTable =\n",
              "            await google.colab.kernel.invokeFunction('convertToInteractive',\n",
              "                                                     [key], {});\n",
              "          if (!dataTable) return;\n",
              "\n",
              "          const docLinkHtml = 'Like what you see? Visit the ' +\n",
              "            '<a target=\"_blank\" href=https://colab.research.google.com/notebooks/data_table.ipynb>data table notebook</a>'\n",
              "            + ' to learn more about interactive tables.';\n",
              "          element.innerHTML = '';\n",
              "          dataTable['output_type'] = 'display_data';\n",
              "          await google.colab.output.renderOutput(dataTable, element);\n",
              "          const docLink = document.createElement('div');\n",
              "          docLink.innerHTML = docLinkHtml;\n",
              "          element.appendChild(docLink);\n",
              "        }\n",
              "      </script>\n",
              "    </div>\n",
              "  </div>\n",
              "  "
            ],
            "text/plain": [
              "                                                    0    Author\n",
              "1   {'the': 133, 'of': 106, 'to': 72, 'and': 40, '...  Hamilton\n",
              "2   {'the': 107, 'of': 83, 'and': 83, 'to': 53, 't...       Jay\n",
              "3   {'the': 93, 'of': 62, 'and': 60, 'to': 56, 'or...       Jay\n",
              "4   {'and': 90, 'the': 86, 'of': 72, 'to': 51, 'it...       Jay\n",
              "5   {'and': 72, 'the': 66, 'of': 53, 'to': 45, 'wo...       Jay\n",
              "..                                                ...       ...\n",
              "81  {'the': 389, 'of': 248, 'to': 163, 'in': 135, ...  Hamilton\n",
              "82  {'the': 168, 'of': 94, 'to': 83, 'and': 41, 'i...  Hamilton\n",
              "83  {'the': 485, 'of': 331, 'to': 219, 'in': 213, ...  Hamilton\n",
              "84  {'the': 390, 'of': 293, 'to': 140, 'be': 94, '...  Hamilton\n",
              "85  {'the': 246, 'of': 172, 'to': 115, 'in': 73, '...  Hamilton\n",
              "\n",
              "[85 rows x 2 columns]"
            ]
          },
          "metadata": {},
          "execution_count": 70
        }
      ]
    },
    {
      "cell_type": "markdown",
      "metadata": {
        "id": "bDLgJQtaHljA"
      },
      "source": [
        "## Question 2\n",
        "Make a visualization that summarizes the most common words used by Hamilton, Madison, and Jay."
      ]
    },
    {
      "cell_type": "code",
      "source": [
        "from collections import Counter\n",
        "df_papers = (papers.\n",
        " str.lower().\n",
        " str.replace(\"[^\\w\\s]\", \" \").  # replace non-alphanumeric characters by whitespace\n",
        " str.split()).apply(Counter).to_frame()\n",
        "df_author.index = df_author[\"Paper\"]\n",
        "df_papers[\"Author\"] = df_author[\"Author\"]\n",
        "counter = (papers.\n",
        " str.lower().\n",
        " str.replace(\"[^\\w\\s]\", \" \").  # replace non-alphanumeric characters by whitespace\n",
        " str.split()).apply(Counter)\n",
        "\n",
        "words = pd.DataFrame(list(counter)).fillna(0)\n",
        "words.index = df_author.index\n",
        "words[\"Author\"] = df_author[\"Author\"]\n",
        "top = 50\n",
        "words[words[\"Author\"] == \"Hamilton\"].sum()[:-1].sort_values(ascending=False)[:top].plot.bar()\n",
        "words[words[\"Author\"] == \"Madison\"].sum()[:-1].sort_values(ascending=False)[:top].plot.bar()\n",
        "words[words[\"Author\"] == \"Jay\"].sum()[:-1].sort_values(ascending=False)[:top].plot.bar()"
      ],
      "metadata": {
        "colab": {
          "base_uri": "https://localhost:8080/",
          "height": 422
        },
        "id": "zSq605mNweq9",
        "outputId": "6f4a876c-1e39-4ed1-9a55-fae8f7b45d7a"
      },
      "execution_count": null,
      "outputs": [
        {
          "output_type": "stream",
          "name": "stderr",
          "text": [
            "/usr/local/lib/python3.7/dist-packages/ipykernel_launcher.py:4: FutureWarning: The default value of regex will change from True to False in a future version.\n",
            "  after removing the cwd from sys.path.\n",
            "/usr/local/lib/python3.7/dist-packages/ipykernel_launcher.py:10: FutureWarning: The default value of regex will change from True to False in a future version.\n",
            "  # Remove the CWD from sys.path while we load stuff.\n"
          ]
        },
        {
          "output_type": "execute_result",
          "data": {
            "text/plain": [
              "<matplotlib.axes._subplots.AxesSubplot at 0x7f9c94d77f10>"
            ]
          },
          "metadata": {},
          "execution_count": 71
        },
        {
          "output_type": "display_data",
          "data": {
            "image/png": "[encoded data removed]",
            "text/plain": [
              "<Figure size 432x288 with 1 Axes>"
            ]
          },
          "metadata": {
            "needs_background": "light"
          }
        }
      ]
    },
    {
      "cell_type": "code",
      "source": [
        "words[words[\"Author\"] == \"Madison\"].sum()[:-1].sort_values(ascending=False)[:top].plot.bar()"
      ],
      "metadata": {
        "colab": {
          "base_uri": "https://localhost:8080/",
          "height": 333
        },
        "id": "tjEORyGaoF1Q",
        "outputId": "2d4a1726-f747-4b2d-ca05-2140938a2a95"
      },
      "execution_count": null,
      "outputs": [
        {
          "output_type": "execute_result",
          "data": {
            "text/plain": [
              "<matplotlib.axes._subplots.AxesSubplot at 0x7f9c95b9e190>"
            ]
          },
          "metadata": {},
          "execution_count": 72
        },
        {
          "output_type": "display_data",
          "data": {
            "image/png": "[encoded data removed]",
            "text/plain": [
              "<Figure size 432x288 with 1 Axes>"
            ]
          },
          "metadata": {
            "needs_background": "light"
          }
        }
      ]
    },
    {
      "cell_type": "code",
      "source": [
        "words[words[\"Author\"] == \"Jay\"].sum()[:-1].sort_values(ascending=False)[:top].plot.bar()"
      ],
      "metadata": {
        "colab": {
          "base_uri": "https://localhost:8080/",
          "height": 333
        },
        "id": "018g2uVAoQiP",
        "outputId": "0f2b6e0f-d0d6-4e54-8994-79ca7ddb0444"
      },
      "execution_count": null,
      "outputs": [
        {
          "output_type": "execute_result",
          "data": {
            "text/plain": [
              "<matplotlib.axes._subplots.AxesSubplot at 0x7f9c94d18a90>"
            ]
          },
          "metadata": {},
          "execution_count": 73
        },
        {
          "output_type": "display_data",
          "data": {
            "image/png": "[encoded data removed]",
            "text/plain": [
              "<Figure size 432x288 with 1 Axes>"
            ]
          },
          "metadata": {
            "needs_background": "light"
          }
        }
      ]
    },
    {
      "cell_type": "markdown",
      "source": [
        "All used \"the\" most frequently, usually followed by \"and\" and \"of\", but after the 6th or so weord, their vocabulary diversifies."
      ],
      "metadata": {
        "id": "JhU1vEi2g6V8"
      }
    },
    {
      "cell_type": "markdown",
      "metadata": {
        "id": "fh0DzmKrBLUT"
      },
      "source": [
        "## Question 3\n",
        "\n",
        "For each of the documents with disputed authorships, find the 5 most similar documents with _known_ authorships, using cosine distance on the term frequencies. Use the authors of these 5 most similar documents to predict the author of each disputed document. (For example, if 3 of the 5 closest documents were written by Hamilton, 1 by Madison, and 1 by Jay, then we would predict that the disputed document was written by Hamilton.)"
      ]
    },
    {
      "cell_type": "markdown",
      "source": [
        "Sucheen's Model:"
      ],
      "metadata": {
        "id": "wtqk2Yq9k4PH"
      }
    },
    {
      "cell_type": "code",
      "source": [
        "from sklearn.feature_extraction.text import *\n",
        "from sklearn.metrics.pairwise import *\n",
        "papers_known = df_papers\n",
        "known_text = papers[papers_known.index]\n",
        "vectorizer = TfidfVectorizer(norm=None)\n",
        "vectorizer.fit(known_text)\n",
        "transformed = vectorizer.transform(known_text)\n",
        "distance_df = pd.DataFrame(cosine_distances(transformed))\n",
        "papers_arr = []\n",
        "df_unknown = df_author[df_author[\"Author\"].isna()]\n",
        "not_null_df_index = [i for i in distance_df.index if i not in df_unknown.index]\n",
        "filtered = distance_df.loc[not_null_df_index]\n",
        "for col in df_unknown.index:\n",
        "  val = filtered[col].sort_values().index[1:6]\n",
        "  papers_arr.append(val+1)\n",
        "vals = []\n",
        "for i in range(len(papers_arr)):\n",
        "  value = df_papers.loc[papers_arr[i]][\"Author\"].value_counts().idxmax()\n",
        "  vals.append(value)\n",
        "pd.Series(vals, df_unknown.index)"
      ],
      "metadata": {
        "colab": {
          "base_uri": "https://localhost:8080/"
        },
        "id": "XB4hLnATy2MX",
        "outputId": "96f2e29f-ab32-42ea-ee61-ba93038043e9"
      },
      "execution_count": null,
      "outputs": [
        {
          "output_type": "execute_result",
          "data": {
            "text/plain": [
              "Paper\n",
              "18     Madison\n",
              "19     Madison\n",
              "20    Hamilton\n",
              "49     Madison\n",
              "50     Madison\n",
              "51     Madison\n",
              "52     Madison\n",
              "53    Hamilton\n",
              "54     Madison\n",
              "55     Madison\n",
              "56     Madison\n",
              "57     Madison\n",
              "58    Hamilton\n",
              "62     Madison\n",
              "63    Hamilton\n",
              "dtype: object"
            ]
          },
          "metadata": {},
          "execution_count": 74
        }
      ]
    },
    {
      "cell_type": "markdown",
      "source": [
        "Ava's Model:"
      ],
      "metadata": {
        "id": "dqjqB0BibJEA"
      }
    },
    {
      "cell_type": "code",
      "source": [
        "df_fed = pd.read_csv('https://dlsun.github.io/pods/data/federalist/authorship.csv')\n",
        "null_list = [17,18,19,48,49,50,51,52,53,54,55,56,57,61,62]\n",
        "fed_dir =  'https://dlsun.github.io/pods/data/federalist/'"
      ],
      "metadata": {
        "id": "RMYl3hE8fgiy"
      },
      "execution_count": null,
      "outputs": []
    },
    {
      "cell_type": "code",
      "source": [
        "from sklearn.feature_extraction.text import TfidfVectorizer\n",
        "papers = []\n",
        "\n",
        "for i in range(1,86,1):\n",
        "    papers.append(str(i)+'.txt')\n",
        "\n",
        "fed_papes = pd.Series()\n",
        "for paper in papers:\n",
        "  response = requests.get(fed_dir+paper,\"r\")\n",
        "  fed_papes[paper[:-4]] = response.text\n",
        "fed_papes = fed_papes.str.replace(\"'\", \"\").str.lower().str.replace(\"[^\\w\\s]\", \" \")\n",
        "vec = TfidfVectorizer(norm=None) # Do not normalize.\n",
        "vec.fit(fed_papes) # This determines the vocabulary.\n",
        "tf_idf_sparse = vec.transform(fed_papes)\n",
        "\n",
        "from sklearn.metrics.pairwise import cosine_similarity, cosine_distances\n",
        "sims = cosine_distances(tf_idf_sparse)\n",
        "import numpy as np\n",
        "import math as math\n",
        "import heapq\n",
        "\n",
        "def isNaN(string):\n",
        "    return string != string\n",
        "\n",
        "for row in null_list:\n",
        "  author = {'Hamilton':0,'Madison':0,'Jay':0} #track similars\n",
        "  max_val = heapq.nsmallest(10,sims[row])[1:] #get 10 largest values from cosine sim\n",
        "  i = 0\n",
        "  count = 0\n",
        "  while count<5: #ensure we check 5\n",
        "  #take biggest cosine sim, get the index, pull that row from df\n",
        "    auth = df_fed.iloc[np.where(sims[row]==max_val[i])]['Author']\n",
        "    #if it is a known author, increase count because we cross checked one author\n",
        "    if not isNaN(auth.item()):\n",
        "      if auth.item() == 'Madison':\n",
        "        author['Madison'] += 1\n",
        "        count = count + 1\n",
        "      elif auth.item() == 'Hamilton':\n",
        "        author['Hamilton'] += 1\n",
        "        count = count + 1\n",
        "      elif auth.item() == 'Jay':\n",
        "        author['Jay'] += 1\n",
        "        count = count + 1\n",
        "      else:\n",
        "        print('Check again, something is weird')\n",
        "    #else try the next value\n",
        "    else:\n",
        "      i = i+1\n",
        "  print(max(author, key=author.get)+' probably wrote paper #'+str(row+1))"
      ],
      "metadata": {
        "colab": {
          "base_uri": "https://localhost:8080/"
        },
        "id": "xPPNa1vKbRDH",
        "outputId": "c4fcc442-6c89-4e5d-8181-013705391224"
      },
      "execution_count": null,
      "outputs": [
        {
          "output_type": "stream",
          "name": "stderr",
          "text": [
            "/usr/local/lib/python3.7/dist-packages/ipykernel_launcher.py:8: DeprecationWarning: The default dtype for empty Series will be 'object' instead of 'float64' in a future version. Specify a dtype explicitly to silence this warning.\n",
            "  \n",
            "/usr/local/lib/python3.7/dist-packages/ipykernel_launcher.py:12: FutureWarning: The default value of regex will change from True to False in a future version.\n",
            "  if sys.path[0] == '':\n"
          ]
        },
        {
          "output_type": "stream",
          "name": "stdout",
          "text": [
            "Madison probably wrote paper #18\n",
            "Madison probably wrote paper #19\n",
            "Madison probably wrote paper #20\n",
            "Madison probably wrote paper #49\n",
            "Madison probably wrote paper #50\n",
            "Madison probably wrote paper #51\n",
            "Madison probably wrote paper #52\n",
            "Hamilton probably wrote paper #53\n",
            "Madison probably wrote paper #54\n",
            "Hamilton probably wrote paper #55\n",
            "Hamilton probably wrote paper #56\n",
            "Hamilton probably wrote paper #57\n",
            "Madison probably wrote paper #58\n",
            "Hamilton probably wrote paper #62\n",
            "Madison probably wrote paper #63\n"
          ]
        }
      ]
    },
    {
      "cell_type": "markdown",
      "source": [
        "Sucheen and I approached the model in two ways, but both had a 2:1 correct:incorrect ratio, which we found interesting. I predicted with all texts in model, and him only known. We had differences in our predictions, but we had the same number correct in the end. In the future, it would be interesting to run a third model, and perhaps make a prediction based off 3 model predictions to get the most accuracy."
      ],
      "metadata": {
        "id": "FMdWeivngMDM"
      }
    },
    {
      "cell_type": "markdown",
      "metadata": {
        "id": "8Ng3BgkXBLUw"
      },
      "source": [
        "## Submission Instructions\n",
        "\n",
        "- Copy this notebook to your own Drive, if you have not already.\n",
        "- Restart this notebook and run the cells from beginning to end. \n",
        "  - Go to Runtime > Restart and Run All.\n",
        "- Rename this notebook by clicking on \"DATA 301 Lab 5 - YOUR NAMES HERE\" at the very top of this page. Replace \"YOUR NAMES HERE\" with the first and last names of you (and your partners, for Phase 2).\n",
        "- Get the link to your notebook:\n",
        "  - Click on \"Share\" at the top-right. \n",
        "  - Change the settings to \"Anyone with the link can view\". \n",
        "  - Copy the sharing link into Canvas."
      ]
    }
  ]
}